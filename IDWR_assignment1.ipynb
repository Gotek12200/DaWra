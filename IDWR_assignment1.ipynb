{
 "cells": [
  {
   "cell_type": "code",
   "metadata": {
    "id": "hmOIHZNMps7O"
   },
   "source": [
    "from pathlib import Path\n",
    "import sqlite3\n",
    "import pandas as pd\n",
    "from itertools import combinations"
   ],
   "outputs": [],
   "execution_count": null
  },
  {
   "metadata": {},
   "cell_type": "code",
   "outputs": [],
   "execution_count": null,
   "source": [
    "BASE_DIR = Path().resolve()\n",
    "sql_path = BASE_DIR / \"Assignment__1.sql\"\n",
    "db_path  = BASE_DIR / \"assignment1.db\""
   ]
  },
  {
   "cell_type": "code",
   "metadata": {
    "id": "kTYDO7Dmp5q9"
   },
   "source": [
    "# 1) Build (or rebuild) the database from the SQL script\n",
    "with sqlite3.connect(db_path) as con:\n",
    "    with open(sql_path, \"r\", encoding=\"utf-8\") as f:\n",
    "        sql_script = f.read()\n",
    "    # Execute the schema & sample data; enable foreign keys\n",
    "    con.executescript(\"PRAGMA foreign_keys=ON;\\n\" + sql_script)"
   ],
   "outputs": [],
   "execution_count": null
  },
  {
   "cell_type": "code",
   "metadata": {},
   "source": [
    "# 2) Quick sanity check\n",
    "with sqlite3.connect(db_path) as con:\n",
    "    tables = pd.read_sql_query(\n",
    "        \"SELECT name FROM sqlite_master WHERE type='table';\", con\n",
    "    )\n",
    "    print(\"Tables in database:\", tables)"
   ],
   "outputs": [],
   "execution_count": null
  },
  {
   "cell_type": "code",
   "metadata": {
    "id": "GrNfeUWZqjxp"
   },
   "source": [
    "# Example: list tables\n",
    "with sqlite3.connect(db_path) as con:\n",
    "    tables = pd.read_sql_query(\n",
    "        \"SELECT name FROM sqlite_master WHERE type='table';\", con\n",
    "    )\n",
    "tables"
   ],
   "outputs": [],
   "execution_count": null
  },
  {
   "cell_type": "code",
   "metadata": {},
   "source": [
    "query = \"\"\"\n",
    "SELECT c.customer_id,\n",
    "       c.street || ' ' || c.house_number AS address,\n",
    "       COALESCE(SUM(cp.contract_amount), 0) AS total_contract_amount\n",
    "FROM customer AS c\n",
    "LEFT JOIN customer_partner AS cp\n",
    "       ON c.customer_id = cp.customer_id\n",
    "GROUP BY c.customer_id\n",
    "ORDER BY total_contract_amount DESC;\n",
    "\"\"\"\n",
    "with sqlite3.connect(db_path) as con:\n",
    "    total_contracts = pd.read_sql_query(query, con)\n",
    "total_contracts.head()\n"
   ],
   "outputs": [],
   "execution_count": null
  },
  {
   "cell_type": "code",
   "metadata": {
    "id": "7HkxJZksqbmF"
   },
   "source": [
    "# Task 3B – Read the customer table into a pandas DataFrame\n",
    "with sqlite3.connect(db_path) as con:\n",
    "    customer_df = pd.read_sql_query(\"SELECT * FROM customer;\", con)\n",
    "\n",
    "# Preview the first few rows\n",
    "customer_df.head()\n"
   ],
   "outputs": [],
   "execution_count": null
  },
  {
   "cell_type": "code",
   "metadata": {
    "id": "i_VSzDXAqyyw"
   },
   "source": [
    "customer_df.info()       # column types & non-null counts\n",
    "customer_df.describe()   # numeric summary statistics\n",
    "customer_df['city'].value_counts()\n"
   ],
   "outputs": [],
   "execution_count": null
  },
  {
   "cell_type": "code",
   "metadata": {
    "colab": {
     "base_uri": "https://localhost:8080/",
     "height": 132
    },
    "id": "aQ9PABq3Xxk-",
    "outputId": "76fb13b5-ddb5-4703-ee73-d6b090a5bb85"
   },
   "source": [
    "# quick helper to clean up values so small differences (spaces, case) don't matter\n",
    "def clean_val(x):\n",
    "    if pd.isna(x):\n",
    "        return \"\"\n",
    "    return str(x).strip().lower()\n",
    "\n",
    "# guess which column is the unique ID (so we can ignore it in the similarity check)\n",
    "def find_id_col(df):\n",
    "    if \"customer_id\" in df.columns:\n",
    "        return \"customer_id\"\n",
    "    for c in df.columns:\n",
    "        name = c.lower()\n",
    "        if (\"customer\" in name and \"id\" in name) or name == \"id\" or name.endswith(\"_id\"):\n",
    "            return c\n",
    "    # fall back to first column if nothing obvious\n",
    "    return df.columns[0]\n",
    "\n",
    "# turn one row into a set of its attribute values (except the id)\n",
    "def row_to_set(row, ignore_cols=()):\n",
    "    return {clean_val(v) for k, v in row.items() if k not in ignore_cols}\n",
    "\n",
    "# overlap coefficient = size of intersection / size of smaller set\n",
    "def overlap(row1, row2, ignore_cols=()):\n",
    "    set1 = row_to_set(row1, ignore_cols)\n",
    "    set2 = row_to_set(row2, ignore_cols)\n",
    "    if not set1 or not set2:\n",
    "        return 0.0\n",
    "    return len(set1 & set2) / min(len(set1), len(set2))\n",
    "\n",
    "def compare_rows(df, cutoff=0.7):\n",
    "    \"\"\"\n",
    "    Go through every pair of rows and compute the overlap coefficient.\n",
    "    Keep only the pairs whose similarity is at least 'cutoff'.\n",
    "    Returns a DataFrame with the IDs, similarity score and a few context columns.\n",
    "    \"\"\"\n",
    "    id_col = find_id_col(df)\n",
    "    hits = []\n",
    "\n",
    "    # make a cleaned copy just for comparison\n",
    "    df_clean = df.copy()\n",
    "    for c in df_clean.columns:\n",
    "        df_clean[c] = df_clean[c].apply(clean_val)\n",
    "\n",
    "    for i, j in combinations(range(len(df_clean)), 2):\n",
    "        score = overlap(df_clean.iloc[i], df_clean.iloc[j], ignore_cols=(id_col,))\n",
    "        if score >= cutoff:\n",
    "            match = {\n",
    "                \"id_1\": df.iloc[i][id_col],\n",
    "                \"id_2\": df.iloc[j][id_col],\n",
    "                \"similarity\": round(score, 3),\n",
    "            }\n",
    "            # add a few descriptive columns if they exist\n",
    "            for c in (\"street\", \"house_number\", \"city\", \"country\"):\n",
    "                if c in df.columns:\n",
    "                    match[f\"{c}_1\"] = df.iloc[i][c]\n",
    "                    match[f\"{c}_2\"] = df.iloc[j][c]\n",
    "            hits.append(match)\n",
    "\n",
    "    if not hits:\n",
    "        print(f\"No pairs with similarity ≥ {cutoff}\")\n",
    "        return pd.DataFrame()  # return empty if nothing found\n",
    "\n",
    "    # sort best matches first\n",
    "    return pd.DataFrame(hits).sort_values(\"similarity\", ascending=False).reset_index(drop=True)\n"
   ],
   "outputs": [],
   "execution_count": null
  },
  {
   "cell_type": "code",
   "metadata": {},
   "source": [
    "similar_pairs = compare_rows(customer_df, cutoff=0.7)\n",
    "similar_pairs.head()"
   ],
   "outputs": [],
   "execution_count": null
  }
 ],
 "metadata": {
  "colab": {
   "provenance": []
  },
  "kernelspec": {
   "display_name": "Python 3 (ipykernel)",
   "name": "python3",
   "language": "python"
  },
  "language_info": {
   "codemirror_mode": {
    "name": "ipython",
    "version": 3
   },
   "file_extension": ".py",
   "mimetype": "text/x-python",
   "name": "python",
   "nbconvert_exporter": "python",
   "pygments_lexer": "ipython3",
   "version": "3.11.9"
  }
 },
 "nbformat": 4,
 "nbformat_minor": 0
}
