{
 "cells": [
  {
   "cell_type": "code",
   "execution_count": 1,
   "id": "29210e73",
   "metadata": {},
   "outputs": [],
   "source": [
    "import numpy as np\n",
    "import pandas as pd"
   ]
  },
  {
   "cell_type": "code",
   "execution_count": 2,
   "id": "82e52786",
   "metadata": {},
   "outputs": [],
   "source": [
    "df_ACM = pd.read_csv(\"ACM.csv\")\n",
    "df_DB = pd.read_csv(\"DBLP2.csv\", encoding=\"latin1\") "
   ]
  },
  {
   "cell_type": "code",
   "execution_count": 3,
   "id": "2a0b5ed6",
   "metadata": {},
   "outputs": [],
   "source": [
    "# 1\n",
    "# Concatenate all columns per row into one string\n",
    "df_DB[\"merged\"] = df_DB.astype(str).agg(\" \".join, axis=1)\n",
    "df_ACM[\"merged\"] = df_ACM.astype(str).agg(\" \".join, axis =1)"
   ]
  },
  {
   "cell_type": "code",
   "execution_count": 4,
   "id": "4686722e",
   "metadata": {},
   "outputs": [],
   "source": [
    "# 2\n",
    "df_DB[\"merged\"] = df_DB[\"merged\"].str.lower()\n",
    "df_ACM[\"merged\"] = df_ACM[\"merged\"].str.lower()"
   ]
  },
  {
   "cell_type": "code",
   "execution_count": 5,
   "id": "6d1dd9b8",
   "metadata": {},
   "outputs": [],
   "source": [
    "#3\n",
    "df_DB[\"merged\"] = df_DB[\"merged\"].str.replace(r\"\\s+\", \" \", regex=True).str.strip()\n",
    "df_ACM[\"merged\"] = df_ACM[\"merged\"].str.replace(r\"\\s+\", \" \", regex=True).str.strip()\n"
   ]
  },
  {
   "cell_type": "code",
   "execution_count": 6,
   "id": "0aa4d147",
   "metadata": {},
   "outputs": [],
   "source": [
    "#4\n",
    "list_ACM = df_ACM[\"merged\"]\n",
    "list_DB  = df_DB[\"merged\"]\n",
    "\n",
    "big_list = list_ACM + list_DB"
   ]
  },
  {
   "cell_type": "code",
   "execution_count": 7,
   "id": "db523069",
   "metadata": {},
   "outputs": [],
   "source": [
    "#5 Shingle used from the lap\n",
    "def shingle(text, k: int) -> set:\n",
    "    \"\"\"Return set of k-shingles, robust to None/NaN/non-strings/short strings.\"\"\"\n",
    "    # Treat None/NaN as empty\n",
    "    if text is None:\n",
    "        return set()\n",
    "    if isinstance(text, float):\n",
    "        if text != text:  # NaN\n",
    "            return set()\n",
    "        text = str(text)\n",
    "    elif not isinstance(text, str):\n",
    "        text = str(text)\n",
    "\n",
    "    if len(text) < k:\n",
    "        return set()\n",
    "    return { text[i:i+k] for i in range(len(text) - k + 1) }\n",
    "\n",
    "def build_vocab(shingle_sets: list) -> dict:\n",
    "    full_set = {sh for s in shingle_sets for sh in s}\n",
    "    return {sh: i for i, sh in enumerate(full_set)}\n",
    "\n",
    "def one_hot(shingles: set, vocab: dict):\n",
    "    vec = np.zeros(len(vocab), dtype=int)\n",
    "    for sh in shingles:\n",
    "        vec[vocab[sh]] = 1\n",
    "    return vec\n",
    "\n",
    "def get_minhash_arr(num_hashes:int, vocab:dict):\n",
    "    length = len(vocab)\n",
    "    arr = np.zeros((num_hashes, length), dtype=int)\n",
    "    for i in range(num_hashes):\n",
    "        arr[i, :] = np.random.permutation(length) + 1\n",
    "    return arr\n",
    "\n",
    "def get_signature(minhash: np.ndarray, vector: np.ndarray):\n",
    "    idx = np.nonzero(vector)[0]\n",
    "    if idx.size == 0:\n",
    "        # No shingles; return a signature that won't match others\n",
    "        return np.full(minhash.shape[0], np.iinfo(np.int32).max, dtype=int)\n",
    "    return np.min(minhash[:, idx], axis=1)\n",
    "\n",
    "def jaccard_similarity(set1: set, set2: set) -> float:\n",
    "    inter = len(set1 & set2)\n",
    "    union = len(set1 | set2)\n",
    "    return inter / union if union else 0.0\n",
    "\n",
    "def compute_signature_similarity(sig1: np.ndarray, sig2: np.ndarray) -> float:\n",
    "    if sig1.shape != sig2.shape:\n",
    "        raise ValueError(\"Signature shapes must match.\")\n",
    "    return float(np.mean(sig1 == sig2))\n",
    "\n",
    "# Shingling\n",
    "k = 3\n",
    "shingle_sets = [shingle(doc, k) for doc in big_list]\n",
    "\n",
    "# Vocab & one-hot\n",
    "vocab = build_vocab(shingle_sets)\n",
    "if len(vocab) == 0:\n",
    "    raise ValueError(\"Vocabulary is empty. Check that big_list has strings of length >= k.\")\n",
    "\n",
    "onehot = np.stack([one_hot(sset, vocab) for sset in shingle_sets])\n",
    "\n",
    "# MinHash signatures\n",
    "num_hashes = 100\n",
    "minhash_arr = get_minhash_arr(num_hashes, vocab)\n",
    "signatures = np.stack([get_signature(minhash_arr, vec) for vec in onehot])\n",
    "\n",
    "#  similarities\n",
    "\n",
    "N = len(big_list)\n",
    "jac_mat = np.eye(N, dtype=float)  # exact Jaccard similarity matrix\n",
    "mh_mat  = np.eye(N, dtype=float)  # MinHash similarity matrix\n",
    "\n",
    "for i in range(N):\n",
    "    for j in range(i + 1, N):\n",
    "        # Exact Jaccard on shingles\n",
    "        s_jac = jaccard_similarity(shingle_sets[i], shingle_sets[j])\n",
    "        jac_mat[i, j] = jac_mat[j, i] = s_jac\n",
    "\n",
    "        # MinHash-based similarity (fraction of equal signature components)\n",
    "        s_mh = compute_signature_similarity(signatures[i], signatures[j])\n",
    "        mh_mat[i, j] = mh_mat[j, i] = s_mh\n"
   ]
  },
  {
   "cell_type": "code",
   "execution_count": 8,
   "id": "70af7f8e",
   "metadata": {},
   "outputs": [
    {
     "name": "stdout",
     "output_type": "stream",
     "text": [
      "\n",
      "=== Example shingles (first 3 documents) ===\n",
      "Doc 0: [' 19', ' an', ' ap', ' co', ' d.', ' da', ' de', ' en', ' fo', ' gl'] ... (249 total shingles)\n",
      "Doc 1: [' 19', ' a ', ' an', ' ap', ' ba', ' co', ' cr', ' da', ' di', ' e.'] ... (258 total shingles)\n",
      "Doc 2: [' 19', ' 20', ' ag', ' an', ' at', ' be', ' bo', ' co', ' da', ' fo'] ... (323 total shingles)\n",
      "\n",
      "=== Example MinHash signatures (first 3 documents) ===\n",
      "Doc 0 signature: [ 13  70  37  14 125  45  36  12 174   2] ... (100 total hash values)\n",
      "Doc 1 signature: [132  32   7  52  25  14  36  12  16  14] ... (100 total hash values)\n",
      "Doc 2 signature: [54 32  2 63 25 14 36 12 16 56] ... (100 total hash values)\n",
      "\n",
      "=== Jaccard similarity matrix (rounded) ===\n",
      "[[1.    0.176 0.182 ... 0.    0.    0.   ]\n",
      " [0.176 1.    0.218 ... 0.    0.    0.   ]\n",
      " [0.182 0.218 1.    ... 0.    0.    0.   ]\n",
      " ...\n",
      " [0.    0.    0.    ... 1.    0.    0.   ]\n",
      " [0.    0.    0.    ... 0.    1.    0.   ]\n",
      " [0.    0.    0.    ... 0.    0.    1.   ]]\n",
      "\n",
      "=== MinHash similarity matrix (rounded) ===\n",
      "[[1.   0.18 0.19 ... 0.   0.   0.  ]\n",
      " [0.18 1.   0.23 ... 0.   0.   0.  ]\n",
      " [0.19 0.23 1.   ... 0.   0.   0.  ]\n",
      " ...\n",
      " [0.   0.   0.   ... 1.   1.   1.  ]\n",
      " [0.   0.   0.   ... 1.   1.   1.  ]\n",
      " [0.   0.   0.   ... 1.   1.   1.  ]]\n"
     ]
    }
   ],
   "source": [
    "# print shingles\n",
    "print(\"\\n=== Example shingles (first 3 documents) ===\")\n",
    "for i, s in enumerate(shingle_sets[:3]):\n",
    "    print(f\"Doc {i}: {sorted(list(s))[:10]} ... ({len(s)} total shingles)\")\n",
    "\n",
    "# Print MinHash signatures\n",
    "print(\"\\n=== Example MinHash signatures (first 3 documents) ===\")\n",
    "for i, sig in enumerate(signatures[:3]):\n",
    "    print(f\"Doc {i} signature: {sig[:10]} ... ({len(sig)} total hash values)\")\n",
    "\n",
    "# Print Jaccard & MinHash similarities\n",
    "print(\"\\n=== Jaccard similarity matrix (rounded) ===\")\n",
    "print(np.round(jac_mat, 3))\n",
    "\n",
    "print(\"\\n=== MinHash similarity matrix (rounded) ===\")\n",
    "print(np.round(mh_mat, 3))\n"
   ]
  }
 ],
 "metadata": {
  "kernelspec": {
   "display_name": "Python 3",
   "language": "python",
   "name": "python3"
  },
  "language_info": {
   "codemirror_mode": {
    "name": "ipython",
    "version": 3
   },
   "file_extension": ".py",
   "mimetype": "text/x-python",
   "name": "python",
   "nbconvert_exporter": "python",
   "pygments_lexer": "ipython3",
   "version": "3.11.9"
  }
 },
 "nbformat": 4,
 "nbformat_minor": 5
}
