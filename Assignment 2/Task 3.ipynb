{
 "cells": [
  {
   "cell_type": "code",
   "execution_count": 1,
   "id": "eadfdbea",
   "metadata": {},
   "outputs": [
    {
     "name": "stderr",
     "output_type": "stream",
     "text": [
      "C:\\Users\\osaro\\AppData\\Local\\Packages\\PythonSoftwareFoundation.Python.3.11_qbz5n2kfra8p0\\LocalCache\\local-packages\\Python311\\site-packages\\tqdm\\auto.py:21: TqdmWarning: IProgress not found. Please update jupyter and ipywidgets. See https://ipywidgets.readthedocs.io/en/stable/user_install.html\n",
      "  from .autonotebook import tqdm as notebook_tqdm\n"
     ]
    }
   ],
   "source": [
    "import kagglehub\n",
    "import os\n",
    "import shutil\n",
    "import numpy as np\n",
    "import pandas as pd"
   ]
  },
  {
   "cell_type": "code",
   "execution_count": 2,
   "id": "b47e12c5",
   "metadata": {},
   "outputs": [
    {
     "name": "stdout",
     "output_type": "stream",
     "text": [
      "Dataset copied to: c:\\Users\\osaro\\OneDrive\\Documenten\\Universiteit\\Master\\Blok 1\\Data Wrangling and Data Analysis\\Assignment\\Assignment 1\\DaWra\\DaWra\\Assignment 2\\diabetes.csv\n"
     ]
    }
   ],
   "source": [
    "\n",
    "# Downloading the Dataset\n",
    "path = kagglehub.dataset_download(\"uciml/pima-indians-diabetes-database\")\n",
    "\n",
    "# get the current working directory, should be the same as the directory where the notebook is in\n",
    "working_dir = os.getcwd()\n",
    "\n",
    "# Copy the CSV directly into the working directory\n",
    "shutil.copy(os.path.join(path, \"diabetes.csv\"),\n",
    "            os.path.join(working_dir, \"diabetes.csv\"))\n",
    "\n",
    "print(\"Dataset copied to:\", os.path.join(working_dir, \"diabetes.csv\"))\n"
   ]
  },
  {
   "cell_type": "code",
   "execution_count": 3,
   "id": "cf5b506b",
   "metadata": {},
   "outputs": [],
   "source": [
    "#Config\n",
    "cols_with_zeros = [\"BloodPressure\", \"SkinThickness\", \"BMI\"]"
   ]
  },
  {
   "cell_type": "code",
   "execution_count": 4,
   "id": "d0a0d981",
   "metadata": {},
   "outputs": [],
   "source": [
    "# loading in the data\n",
    "df = pd.read_csv(\"diabetes.csv\")"
   ]
  },
  {
   "cell_type": "code",
   "execution_count": 5,
   "id": "de524029",
   "metadata": {},
   "outputs": [],
   "source": [
    "# Computing the correlation matrix excluding the Outcome column\n",
    "corr_before = df.drop(columns=[\"Outcome\"]).corr()"
   ]
  },
  {
   "cell_type": "code",
   "execution_count": 6,
   "id": "8e114716",
   "metadata": {},
   "outputs": [],
   "source": [
    "# making a copy so that we can compare this with the initial correlation later\n",
    "df_Zero = df.copy()\n",
    "\n",
    "# Replace zeros -> NaN\n",
    "for c in cols_with_zeros:\n",
    "    df_Zero[c] = df_Zero[c].replace(0, np.nan)"
   ]
  },
  {
   "cell_type": "code",
   "execution_count": 7,
   "id": "7288dca4",
   "metadata": {},
   "outputs": [],
   "source": [
    "# Filling in the cells with nan using the mean values of the records that have the same class label\n",
    "for c in cols_with_zeros:\n",
    "    df_Zero[c] = df_Zero.groupby(\"Outcome\")[c].transform(lambda s: s.fillna(s.mean()))"
   ]
  },
  {
   "cell_type": "code",
   "execution_count": 8,
   "id": "ff3d1167",
   "metadata": {},
   "outputs": [],
   "source": [
    "# Computing the correlation matrix on the altered dataframe\n",
    "corr_after = df_Zero.drop(columns=[\"Outcome\"]).corr()\n"
   ]
  },
  {
   "cell_type": "code",
   "execution_count": 9,
   "id": "0dbf5927",
   "metadata": {},
   "outputs": [
    {
     "name": "stdout",
     "output_type": "stream",
     "text": [
      "Max abs change in correlation: 0.332766\n",
      "\n",
      "Top differences (absolute):\n",
      "SkinThickness ↔ Insulin: Δ=-0.332766 |Δ|=0.332766\n",
      "SkinThickness ↔ Age: Δ=0.249886 |Δ|=0.249886\n",
      "Pregnancies ↔ SkinThickness: Δ=0.175844 |Δ|=0.175844\n",
      "SkinThickness ↔ BMI: Δ=0.172869 |Δ|=0.172869\n",
      "Glucose ↔ SkinThickness: Δ=0.163615 |Δ|=0.163615\n",
      "BloodPressure ↔ Insulin: Δ=-0.137039 |Δ|=0.137039\n",
      "BloodPressure ↔ Age: Δ=0.084911 |Δ|=0.084911\n",
      "SkinThickness ↔ DiabetesPedigreeFunction: Δ=-0.081501 |Δ|=0.081501\n",
      "Glucose ↔ BloodPressure: Δ=0.069828 |Δ|=0.069828\n",
      "Pregnancies ↔ BloodPressure: Δ=0.067653 |Δ|=0.067653\n"
     ]
    }
   ],
   "source": [
    "# Compare\n",
    "diff = (corr_after - corr_before).round(6)\n",
    "print(\"Max abs change in correlation:\", diff.abs().to_numpy().max())\n",
    "print(\"\\nTop differences (absolute):\")\n",
    "pairs = []\n",
    "cols = diff.columns\n",
    "for i in range(len(cols)):\n",
    "    for j in range(i+1, len(cols)):\n",
    "        delta = float(diff.iloc[i, j])\n",
    "        pairs.append((cols[i], cols[j], delta, abs(delta)))\n",
    "pairs.sort(key=lambda x: x[3], reverse=True)\n",
    "for a,b,delta,ad in pairs[:10]:\n",
    "    print(f\"{a} ↔ {b}: Δ={delta:.6f} |Δ|={ad:.6f}\")\n"
   ]
  }
 ],
 "metadata": {
  "kernelspec": {
   "display_name": "Python 3",
   "language": "python",
   "name": "python3"
  },
  "language_info": {
   "codemirror_mode": {
    "name": "ipython",
    "version": 3
   },
   "file_extension": ".py",
   "mimetype": "text/x-python",
   "name": "python",
   "nbconvert_exporter": "python",
   "pygments_lexer": "ipython3",
   "version": "3.11.9"
  }
 },
 "nbformat": 4,
 "nbformat_minor": 5
}
